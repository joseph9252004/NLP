{
  "cells": [
    {
      "cell_type": "code",
      "execution_count": 11,
      "metadata": {
        "id": "4e-Dg0sG1OZn"
      },
      "outputs": [],
      "source": [
        "import pandas as pd\n",
        "import numpy as np\n",
        "from collections import defaultdict, Counter\n",
        "from datasets import load_dataset, Dataset as HFDataset\n",
        "from sklearn.metrics import accuracy_score\n",
        "import warnings\n",
        "import string\n",
        "import os\n",
        "import shutil\n",
        "import torch\n",
        "import re\n",
        "import random\n",
        "import matplotlib.pyplot as plt\n",
        "import seaborn as sns\n",
        "from sklearn.model_selection import train_test_split\n",
        "import sentencepiece\n",
        "import evaluate\n",
        "from sacrebleu import BLEU\n",
        "from transformers import AutoTokenizer, AutoModelForSeq2SeqLM, Seq2SeqTrainingArguments, Seq2SeqTrainer, pipeline, EvalPrediction, TrainerCallback\n",
        "import sys\n",
        "import tensorflow as tf"
      ]
    },
    {
      "cell_type": "markdown",
      "metadata": {
        "id": "j5JPELDtXz8B"
      },
      "source": [
        "# **Data Preprocessing**"
      ]
    },
    {
      "cell_type": "markdown",
      "metadata": {
        "id": "p_Hm3BtQFDFo"
      },
      "source": [
        "### **Load The Data**"
      ]
    },
    {
      "cell_type": "code",
      "execution_count": 12,
      "metadata": {
        "colab": {
          "base_uri": "https://localhost:8080/"
        },
        "id": "P4mefi2N1Y1b",
        "outputId": "041f2631-a076-412c-cdcb-02bde91846f2"
      },
      "outputs": [
        {
          "name": "stdout",
          "output_type": "stream",
          "text": [
            "dict_keys(['train', 'test'])\n"
          ]
        }
      ],
      "source": [
        "dataset = load_dataset(\"zeydferhat/arabic_functional_text_dimensions\")\n",
        "print(dataset.keys())"
      ]
    },
    {
      "cell_type": "code",
      "execution_count": 13,
      "metadata": {
        "colab": {
          "base_uri": "https://localhost:8080/"
        },
        "id": "LRT-JEjmRQsp",
        "outputId": "edb6eefd-de88-4b3f-e26d-d53f5a022943"
      },
      "outputs": [
        {
          "name": "stdout",
          "output_type": "stream",
          "text": [
            "['index', 'Text', 'label']\n",
            "{'index': 2835, 'Text': 'وحين أنامته الممرضة من جديد خطوت عائدًا إلى غرفة زوجتي.. ولكن ما إن سمعت صوت خطواتي حتى عدت إلى عالمي، عالم بعيد مطوق بشيء اسمه حب حقيقي.. حب لا إلزام فيه ولا جزاء.. حب لذاته، بلا تعويض، بلا ثمن، بلا خوف، حب صافٍ لم أحس به أبدًا من قبل، أبدًا أبدًا، حب لذلك الطفل الذي ولد مني، بسببي، ومن أجلي، وكان ثمنه حبي لها، وحبها لي، ليس غير.. حب لا غاية له، ولا هدف، حب مترع العطاء، يطوف في صدري حتى أحسه يسكب في جسدي، كما لو أنه ينضح ندى فيبعث فيَّ فرحة اللقاء الحقيقي الذي لم يلوث بعد بتعقيدات الحياة، بقانون خذ وهات، وقانون أنت وأنا، وقانون أين ولماذا وكيف.. مجرد عطاء محض غير مشوب بأي سؤال، أو طلب، أو انتظار، أو تلكؤ، أو تردد.. مثل ماذا؟ مثل لا شيء، مثل ذاته ليس غير.. لو قدر لنبعة الماء أن تحس، إذن لأحسَّت ذلك الشعور، العطاء المحض الذي يخلق من جديد كلما شرب عابر من مائها ..', 'label': 'Personal '}\n"
          ]
        }
      ],
      "source": [
        "print(dataset['train'].column_names)\n",
        "print(dataset['train'][0])"
      ]
    },
    {
      "cell_type": "code",
      "execution_count": 14,
      "metadata": {
        "colab": {
          "base_uri": "https://localhost:8080/"
        },
        "id": "HucNyyM8eqDe",
        "outputId": "daef9f2c-8807-48ad-8ac2-275aef552fea"
      },
      "outputs": [
        {
          "data": {
            "text/plain": [
              "(2380, 3)"
            ]
          },
          "execution_count": 14,
          "metadata": {},
          "output_type": "execute_result"
        }
      ],
      "source": [
        "df = dataset['train'].to_pandas()\n",
        "df.shape"
      ]
    },
    {
      "cell_type": "markdown",
      "metadata": {
        "id": "q7RdDCERE6SQ"
      },
      "source": [
        "### **Clean and Normalize Words**"
      ]
    },
    {
      "cell_type": "code",
      "execution_count": null,
      "metadata": {
        "id": "s3MNK04MDZRT"
      },
      "outputs": [],
      "source": [
        "def normalize_arabic(text):\n",
        "    text = re.sub(\"[إأآا]\", \"ا\", text)\n",
        "    text = re.sub(\"ى\", \"ي\", text)\n",
        "    text = re.sub(\"ؤ\", \"ء\", text)\n",
        "    text = re.sub(\"ئ\", \"ء\", text)\n",
        "    text = re.sub(\"ة\", \"ه\", text)\n",
        "    text = re.sub(\"گ\", \"ك\", text)\n",
        "    text = re.sub(\" و \", \" \", text)\n",
        "    return text\n",
        "\n",
        "\n",
        "# Define Arabic diacritics\n",
        "arabic_diacritics = re.compile(r\"\"\"\n",
        "    ّ    | # Shadda\n",
        "    َ    | # Fatha\n",
        "    ً    | # Tanwin Fath\n",
        "    ُ    | # Damma\n",
        "    ٌ    | # Tanwin Damm\n",
        "    ِ    | # Kasra\n",
        "    ٍ    | # Tanwin Kasr\n",
        "    ْ    | # Sukun\n",
        "    ـ      # Tatweel\n",
        "\"\"\", re.VERBOSE)\n",
        "\n",
        "def remove_diacritics(text):\n",
        "    text = re.sub(arabic_diacritics, '', text)\n",
        "    return text\n",
        "\n",
        "def remove_non_arabic_and_numbers(text):\n",
        "    # Keep only Arabic characters and spaces\n",
        "    arabic_pattern = re.compile(r'[^\\u0600-\\u06FF\\u0750-\\u077F\\u08A0-\\u08FF\\uFB50-\\uFDFF\\uFE70-\\uFEFF\\s]')\n",
        "    return arabic_pattern.sub('', text)\n",
        "\n",
        "# Define punctuation characters\n",
        "arabic_punctuations = '''`÷×؛<>_()*&^%][ـ،/:\"؟.,'{}~¦+|!”…“–ـ'''\n",
        "english_punctuations = string.punctuation\n",
        "punctuations = arabic_punctuations + english_punctuations\n",
        "\n",
        "def remove_punctuations(text):\n",
        "    translator = str.maketrans('', '', punctuations)\n",
        "    return text.translate(translator)\n",
        "\n",
        "\n",
        "def normalize_arabic_text(text):\n",
        "    text = normalize_arabic(text)\n",
        "    text = remove_diacritics(text)\n",
        "    text = remove_non_arabic_and_numbers(text)\n",
        "    text = remove_punctuations(text)\n",
        "    return text\n"
      ]
    },
    {
      "cell_type": "code",
      "execution_count": 16,
      "metadata": {
        "colab": {
          "base_uri": "https://localhost:8080/"
        },
        "id": "K196glq1kYRe",
        "outputId": "97084740-61ee-4073-de97-be9fb6dbc557"
      },
      "outputs": [
        {
          "name": "stdout",
          "output_type": "stream",
          "text": [
            "72804\n"
          ]
        }
      ],
      "source": [
        "# Extract all text from the 'Text' column\n",
        "text = ' '.join(df[\"Text\"])\n",
        "text = normalize_arabic_text(text)\n",
        "words = text.split()\n",
        "vocab = list(set(words))\n",
        "print(len(vocab))"
      ]
    },
    {
      "cell_type": "markdown",
      "metadata": {
        "id": "AWrqkkZtFw_A"
      },
      "source": [
        "### **Generate Synthetic Training Data**"
      ]
    },
    {
      "cell_type": "markdown",
      "metadata": {
        "id": "auKZI5jU9Ekw"
      },
      "source": [
        "#### **Insertion**"
      ]
    },
    {
      "cell_type": "code",
      "execution_count": 17,
      "metadata": {
        "id": "-C-RYrlP9CuA"
      },
      "outputs": [],
      "source": [
        "def insert(word, max_typos=2):\n",
        "    arabic_letters = 'ابتثجحخدذرزسشصضطظعغفقكلمنهوي'\n",
        "    possible_words = set()\n",
        "    for _ in range(max_typos):\n",
        "        pos = random.randint(0, len(word))\n",
        "        letter = random.choice(arabic_letters)\n",
        "        new_word = word[:pos] + letter + word[pos:]\n",
        "        possible_words.add(new_word)\n",
        "    return possible_words\n"
      ]
    },
    {
      "cell_type": "markdown",
      "metadata": {
        "id": "QED0Z2fD9RU3"
      },
      "source": [
        "#### **Deletion**"
      ]
    },
    {
      "cell_type": "code",
      "execution_count": 18,
      "metadata": {
        "id": "yBTdiTzb9VC2"
      },
      "outputs": [],
      "source": [
        "def delete(word):\n",
        "    if len(word) < 2:\n",
        "        return set()\n",
        "    pos = random.randint(0, len(word)-1)\n",
        "    return {word[:pos] + word[pos+1:]}"
      ]
    },
    {
      "cell_type": "markdown",
      "metadata": {
        "id": "Ux3RlTgD9u4R"
      },
      "source": [
        "#### **Replacing**"
      ]
    },
    {
      "cell_type": "code",
      "execution_count": 19,
      "metadata": {
        "id": "FrcY9EMN9vax"
      },
      "outputs": [],
      "source": [
        "def replace(word):\n",
        "    arabic_letters = 'ابتثجحخدذرزسشصضطظعغفقكلمنهوي'\n",
        "    if len(word) < 1:\n",
        "        return set()\n",
        "    pos = random.randint(0, len(word)-1)\n",
        "    letter = random.choice(arabic_letters)\n",
        "    return {word[:pos] + letter + word[pos+1:]}"
      ]
    },
    {
      "cell_type": "markdown",
      "metadata": {
        "id": "iyjyW8vh93SY"
      },
      "source": [
        "#### **Switching**"
      ]
    },
    {
      "cell_type": "code",
      "execution_count": 20,
      "metadata": {
        "id": "ZXLW5SYg923k"
      },
      "outputs": [],
      "source": [
        "def switch(word):\n",
        "    if len(word) < 2:\n",
        "        return set()\n",
        "    pos = random.randint(0, len(word)-2)\n",
        "    new_word = word[:pos] + word[pos+1] + word[pos] + word[pos+2:]\n",
        "    return {new_word}"
      ]
    },
    {
      "cell_type": "code",
      "execution_count": null,
      "metadata": {
        "id": "cMmVfmEa-03U"
      },
      "outputs": [],
      "source": [
        "def add_arabic_typo(word, max_total_typos=3):\n",
        "    if len(word) < 2:\n",
        "        return [word]\n",
        "\n",
        "    common_typos = {\n",
        "        'ا': ['أ', 'إ', 'آ', ''],\n",
        "        'أ': ['ا', 'إ', 'ء'],\n",
        "        'ة': ['ه', 'ت'],\n",
        "        'ه': ['ة', 'ح'],\n",
        "        'ي': ['ى', 'ئ'],\n",
        "        'و': ['ؤ', 'ء', ''],\n",
        "        'ن': ['ت', 'ب'],\n",
        "        'ت': ['ث', 'ن'],\n",
        "        'س': ['ش', 'ص'],\n",
        "    }\n",
        "\n",
        "    typo_ops = [insert, delete, replace, switch]\n",
        "    typo_variants = set()\n",
        "\n",
        "    \n",
        "    for _ in range(2):\n",
        "        pos = random.randint(0, len(word)-1)\n",
        "        char = word[pos]\n",
        "        if char in common_typos:\n",
        "            replacement = random.choice(common_typos[char])\n",
        "            typo = word[:pos] + replacement + word[pos+1:]\n",
        "            typo_variants.add(typo)\n",
        "\n",
        "    \n",
        "    while len(typo_variants) < max_total_typos:\n",
        "        op = random.choice(typo_ops)\n",
        "        typo_variants.update(op(word))\n",
        "\n",
        "    return list(typo_variants)"
      ]
    },
    {
      "cell_type": "markdown",
      "metadata": {
        "id": "GGJnnIeWGsds"
      },
      "source": [
        "### **Create Training Pairs**"
      ]
    },
    {
      "cell_type": "code",
      "execution_count": null,
      "metadata": {
        "id": "3pMtZQ81aUGs"
      },
      "outputs": [],
      "source": [
        "synthetic_data = []\n",
        "\n",
        "for word in vocab [:10000]:\n",
        "    typo_variants = add_arabic_typo(word)\n",
        "    for incorrect in typo_variants:\n",
        "        if incorrect != word:\n",
        "            synthetic_data.append({'inputs': incorrect.strip(), 'targets': word.strip()})\n",
        "\n",
        "df = pd.DataFrame(synthetic_data)\n",
        "\n",
        "df.to_csv(\"autocorrect_dataset.csv\", index=False)\n"
      ]
    },
    {
      "cell_type": "code",
      "execution_count": 23,
      "metadata": {
        "colab": {
          "base_uri": "https://localhost:8080/"
        },
        "id": "Ae2BC0eiiKhG",
        "outputId": "09def88f-ab8a-4089-90b1-ee07c0847929"
      },
      "outputs": [
        {
          "name": "stdout",
          "output_type": "stream",
          "text": [
            "inputs,targets\n",
            "\n",
            "الاسررار,الاسرار\n",
            "\n",
            "إلاسرار,الاسرار\n",
            "\n",
            "الاسار,الاسرار\n",
            "\n",
            "الاسرارك,الاسرار\n",
            "\n",
            "بومركبه,ومركبه\n",
            "\n",
            "مركبه,ومركبه\n",
            "\n",
            "زومركبه,ومركبه\n",
            "\n",
            "بأتوا,باتوا\n",
            "\n",
            "باتوإ,باتوا\n",
            "\n"
          ]
        }
      ],
      "source": [
        "with open(\"autocorrect_dataset.csv\", encoding=\"utf-8\") as f:\n",
        "    for i in range(10):\n",
        "        print(f.readline())"
      ]
    },
    {
      "cell_type": "code",
      "execution_count": 21,
      "metadata": {
        "colab": {
          "base_uri": "https://localhost:8080/"
        },
        "id": "PcDyPBjGOknb",
        "outputId": "04918b52-df79-4dd2-ad2f-339ad03107bd"
      },
      "outputs": [
        {
          "data": {
            "text/plain": [
              "(31851, 2)"
            ]
          },
          "execution_count": 21,
          "metadata": {},
          "output_type": "execute_result"
        }
      ],
      "source": [
        "df.shape"
      ]
    },
    {
      "cell_type": "markdown",
      "metadata": {
        "id": "dcBM55Qm_cnz"
      },
      "source": [
        "### **Data Cleaning**"
      ]
    },
    {
      "cell_type": "code",
      "execution_count": null,
      "metadata": {
        "id": "yFbpgcgUHg_x"
      },
      "outputs": [],
      "source": [
        "def clean_dataset(df):\n",
        "\n",
        "    df = df.dropna(subset=[\"inputs\", \"targets\"])\n",
        "\n",
        "    df = df[df[\"inputs\"].apply(lambda x: isinstance(x, str))]\n",
        "    df = df[df[\"targets\"].apply(lambda x: isinstance(x, str))]\n",
        "\n",
        "    df = df.reset_index(drop=True)\n",
        "\n",
        "    return df\n"
      ]
    },
    {
      "cell_type": "markdown",
      "metadata": {
        "id": "_I_CALyEIqFL"
      },
      "source": [
        "### **Data Spliting**"
      ]
    },
    {
      "cell_type": "code",
      "execution_count": 28,
      "metadata": {
        "id": "aKaosstVIlLk"
      },
      "outputs": [],
      "source": [
        "# Load and clean dataset\n",
        "df = pd.read_csv(\"autocorrect_dataset.csv\")\n",
        "df = clean_dataset(df)\n",
        "\n",
        "# Train/validation split\n",
        "train_df, val_df = train_test_split(df, test_size=0.1, random_state=42)\n",
        "train_dataset = HFDataset.from_pandas(train_df)\n",
        "val_dataset = HFDataset.from_pandas(val_df)"
      ]
    },
    {
      "cell_type": "code",
      "execution_count": 27,
      "metadata": {
        "colab": {
          "base_uri": "https://localhost:8080/"
        },
        "id": "0Sbu97Op4U47",
        "outputId": "bac0290b-7cd9-47b6-d416-081b503bfa72"
      },
      "outputs": [
        {
          "data": {
            "text/plain": [
              "(31851, 2)"
            ]
          },
          "execution_count": 27,
          "metadata": {},
          "output_type": "execute_result"
        }
      ],
      "source": [
        "df.shape"
      ]
    },
    {
      "cell_type": "markdown",
      "metadata": {
        "id": "oPbtgmltPf97"
      },
      "source": [
        "### **Check Duplicated Values**\n",
        "\n"
      ]
    },
    {
      "cell_type": "code",
      "execution_count": 28,
      "metadata": {
        "colab": {
          "base_uri": "https://localhost:8080/"
        },
        "id": "I4NBXLfXJhjj",
        "outputId": "7d131e4b-2b76-4e86-9427-0b20b9510aaa"
      },
      "outputs": [
        {
          "name": "stdout",
          "output_type": "stream",
          "text": [
            "Found 0 identical input-output pairs\n"
          ]
        }
      ],
      "source": [
        "duplicates = train_df[train_df['inputs'] == train_df['targets']]\n",
        "print(f\"Found {len(duplicates)} identical input-output pairs\")"
      ]
    },
    {
      "cell_type": "markdown",
      "metadata": {
        "id": "w68-PyEXI5VB"
      },
      "source": [
        "# **Model Fine-Tuning**"
      ]
    },
    {
      "cell_type": "markdown",
      "metadata": {
        "id": "O1O29lQxMrU2"
      },
      "source": [
        "### **Load Tokenizer & Model**\n",
        "\n",
        "\n"
      ]
    },
    {
      "cell_type": "code",
      "execution_count": null,
      "metadata": {
        "id": "-VkF_uKvMbG1"
      },
      "outputs": [],
      "source": [
        "tokenizer = AutoTokenizer.from_pretrained(\"CAMeL-Lab/arat5-coda\", legacy=False)\n",
        "model = AutoModelForSeq2SeqLM.from_pretrained(\"CAMeL-Lab/arat5-coda\")\n",
        "\n",
        "def tokenize(batch):\n",
        "    input_encodings = tokenizer(batch['inputs'], padding=\"max_length\", truncation=True, max_length=128)\n",
        "    target_encodings = tokenizer(batch['targets'], padding=\"max_length\", truncation=True, max_length=128)\n",
        "\n",
        "    labels = target_encodings[\"input_ids\"]\n",
        "    labels = [\n",
        "        [(l if l != tokenizer.pad_token_id else -100) for l in label]\n",
        "        for label in labels\n",
        "    ]\n",
        "    \n",
        "    return {\n",
        "        \"input_ids\": input_encodings[\"input_ids\"],\n",
        "        \"attention_mask\": input_encodings[\"attention_mask\"],\n",
        "        \"labels\": labels\n",
        "    }\n"
      ]
    },
    {
      "cell_type": "code",
      "execution_count": 30,
      "metadata": {
        "colab": {
          "base_uri": "https://localhost:8080/",
          "height": 81,
          "referenced_widgets": [
            "bda24dee76124fccbfcb7d9a266233bb",
            "2d20bbc9f09b4b3cb0ad47cb5104dfc4",
            "712182db19544d6eb7d72aaae15dd221",
            "7af27f6b4b494baba8ff3b99ae924706",
            "9c127327f6e74556a45025e39da39623",
            "5649a9fbe7ac439bbe391ab5cd775810",
            "3d6b0fd9b44f4263adf9f661b07e71da",
            "a62a0c902d0348c2b223d573fb006096",
            "b71b31354aaf4cdc987cd549b570a151",
            "1355d49f8d9f46c491beb43e31637359",
            "46e156465f22451cbb27ef635d5ba0ca",
            "6795db3fbad94f5ea2d7698172060ec0",
            "b3580293a0084b5991e324179333d7b8",
            "c739234d0eb74d9a985bd0b108befa6a",
            "352e9547e05047279261d17aa7336d1f",
            "b3ca1a1f4c9c4da7a2a6e3edcbb0c204",
            "dcfd7806910e4750a269fd294e7caf75",
            "9efc74ebda204786a9ea35d2b71feada",
            "958f91e080ec4166814693bba30f6b1a",
            "6108fca9bf1c43ad9e79da8c11bffae3",
            "89634d6adae74804a6b05cd8b9167c56",
            "7985aafbc32947ac96ec030b75783d8a"
          ]
        },
        "id": "GnnKLeBJOAWv",
        "outputId": "6b4aff9d-dfff-45d4-dfb8-6148cc9f8218"
      },
      "outputs": [
        {
          "name": "stderr",
          "output_type": "stream",
          "text": [
            "Map: 100%|██████████| 28665/28665 [00:16<00:00, 1705.89 examples/s]\n",
            "Map: 100%|██████████| 3186/3186 [00:01<00:00, 1660.88 examples/s]\n"
          ]
        }
      ],
      "source": [
        "# Apply tokenization\n",
        "train_dataset = train_dataset.map(tokenize, batched=True, remove_columns=[\"inputs\", \"targets\"])\n",
        "val_dataset = val_dataset.map(tokenize, batched=True, remove_columns=[\"inputs\", \"targets\"])"
      ]
    },
    {
      "cell_type": "markdown",
      "metadata": {
        "id": "-frSYlIkPT2n"
      },
      "source": [
        "### **Model Training Setup**"
      ]
    },
    {
      "cell_type": "code",
      "execution_count": 31,
      "metadata": {
        "id": "SKKcZXjTAHJ5"
      },
      "outputs": [],
      "source": [
        "class LossTrackerCallback(TrainerCallback):\n",
        "    def __init__(self):\n",
        "        self.eval_losses = []\n",
        "        self.train_losses = []\n",
        "\n",
        "    def on_evaluate(self, args, state, control, metrics, **kwargs):\n",
        "        if \"eval_loss\" in metrics:\n",
        "            self.eval_losses.append((state.global_step, metrics[\"eval_loss\"]))\n",
        "\n",
        "    def on_log(self, args, state, control, logs=None, **kwargs):\n",
        "        if logs and \"loss\" in logs:\n",
        "            self.train_losses.append((state.global_step, logs[\"loss\"]))\n"
      ]
    },
    {
      "cell_type": "code",
      "execution_count": null,
      "metadata": {
        "id": "qm12fAhaI0eu"
      },
      "outputs": [],
      "source": [
        "training_args = Seq2SeqTrainingArguments(\n",
        "\n",
        "      output_dir=\"./results\",\n",
        "      per_device_train_batch_size=16,\n",
        "      per_device_eval_batch_size=16,\n",
        "      warmup_steps=200,\n",
        "      warmup_ratio=0.1,\n",
        "      weight_decay=0.01,\n",
        "      gradient_accumulation_steps=1,\n",
        "      learning_rate=2e-5,\n",
        "      fp16=True,\n",
        "      logging_dir=\"./logs\",\n",
        "      logging_steps=500,\n",
        "      predict_with_generate=True,\n",
        "      generation_max_length=16,\n",
        "      gradient_checkpointing=True,\n",
        "      max_grad_norm=1.0,\n",
        "      lr_scheduler_type=\"cosine\",\n",
        "      optim=\"adafactor\",\n",
        "      report_to=\"tensorboard\"\n",
        "      )\n",
        "\n",
        "loss_tracker = LossTrackerCallback()\n",
        "\n",
        "# Trainer\n",
        "trainer = Seq2SeqTrainer(\n",
        "    model=model,\n",
        "    args=training_args,\n",
        "    train_dataset=train_dataset,\n",
        "    eval_dataset=val_dataset,\n",
        "    tokenizer=tokenizer,\n",
        "    compute_metrics=compute_metrics,\n",
        "    callbacks=[loss_tracker]\n",
        ")\n",
        "\n"
      ]
    },
    {
      "cell_type": "markdown",
      "metadata": {
        "id": "GgpUk78UKq3g"
      },
      "source": [
        "# **Model Training**"
      ]
    },
    {
      "cell_type": "markdown",
      "metadata": {
        "id": "qSXp-z0OK_Uv"
      },
      "source": [
        "### **Train The Model**"
      ]
    },
    {
      "cell_type": "code",
      "execution_count": 34,
      "metadata": {
        "colab": {
          "base_uri": "https://localhost:8080/",
          "height": 408
        },
        "id": "fHaI1ucAKp7L",
        "outputId": "0ff8d32a-3027-4515-f6d0-5b99f51ed6c9"
      },
      "outputs": [
        {
          "name": "stdout",
          "output_type": "stream",
          "text": [
            "\n",
            "Epoch 1/2\n"
          ]
        },
        {
          "name": "stderr",
          "output_type": "stream",
          "text": [
            "`use_cache=True` is incompatible with gradient checkpointing. Setting `use_cache=False`...\n"
          ]
        },
        {
          "data": {
            "text/html": [
              "\n",
              "    <div>\n",
              "      \n",
              "      <progress value='5376' max='5376' style='width:300px; height:20px; vertical-align: middle;'></progress>\n",
              "      [5376/5376 13:51:36, Epoch 3/3]\n",
              "    </div>\n",
              "    <table border=\"1\" class=\"dataframe\">\n",
              "  <thead>\n",
              " <tr style=\"text-align: left;\">\n",
              "      <th>Step</th>\n",
              "      <th>Training Loss</th>\n",
              "    </tr>\n",
              "  </thead>\n",
              "  <tbody>\n",
              "    <tr>\n",
              "      <td>500</td>\n",
              "      <td>3.896200</td>\n",
              "    </tr>\n",
              "    <tr>\n",
              "      <td>1000</td>\n",
              "      <td>2.641700</td>\n",
              "    </tr>\n",
              "    <tr>\n",
              "      <td>1500</td>\n",
              "      <td>2.358500</td>\n",
              "    </tr>\n",
              "    <tr>\n",
              "      <td>2000</td>\n",
              "      <td>2.220500</td>\n",
              "    </tr>\n",
              "    <tr>\n",
              "      <td>2500</td>\n",
              "      <td>2.088500</td>\n",
              "    </tr>\n",
              "    <tr>\n",
              "      <td>3000</td>\n",
              "      <td>2.054900</td>\n",
              "    </tr>\n",
              "    <tr>\n",
              "      <td>3500</td>\n",
              "      <td>2.009200</td>\n",
              "    </tr>\n",
              "    <tr>\n",
              "      <td>4000</td>\n",
              "      <td>1.913900</td>\n",
              "    </tr>\n",
              "    <tr>\n",
              "      <td>4500</td>\n",
              "      <td>1.923300</td>\n",
              "    </tr>\n",
              "    <tr>\n",
              "      <td>5000</td>\n",
              "      <td>1.894700</td>\n",
              "    </tr>\n",
              "  </tbody>\n",
              "</table><p>"
            ],
            "text/plain": [
              "<IPython.core.display.HTML object>"
            ]
          },
          "metadata": {},
          "output_type": "display_data"
        },
        {
          "name": "stderr",
          "output_type": "stream",
          "text": [
            "Passing a tuple of `past_key_values` is deprecated and will be removed in Transformers v4.48.0. You should pass an instance of `EncoderDecoderCache` instead, e.g. `past_key_values=EncoderDecoderCache.from_legacy_cache(past_key_values)`.\n"
          ]
        },
        {
          "data": {
            "text/html": [
              "\n",
              "    <div>\n",
              "      \n",
              "      <progress value='400' max='200' style='width:300px; height:20px; vertical-align: middle;'></progress>\n",
              "      [200/200 10:52:16]\n",
              "    </div>\n",
              "    "
            ],
            "text/plain": [
              "<IPython.core.display.HTML object>"
            ]
          },
          "metadata": {},
          "output_type": "display_data"
        },
        {
          "name": "stdout",
          "output_type": "stream",
          "text": [
            "Metric computation error: name 'bleu_scorer' is not defined\n",
            "Validation Loss: 1.5322\n",
            "\n",
            "Epoch 2/2\n"
          ]
        },
        {
          "data": {
            "text/html": [
              "\n",
              "    <div>\n",
              "      \n",
              "      <progress value='5376' max='5376' style='width:300px; height:20px; vertical-align: middle;'></progress>\n",
              "      [5376/5376 10:38:22, Epoch 3/3]\n",
              "    </div>\n",
              "    <table border=\"1\" class=\"dataframe\">\n",
              "  <thead>\n",
              " <tr style=\"text-align: left;\">\n",
              "      <th>Step</th>\n",
              "      <th>Training Loss</th>\n",
              "    </tr>\n",
              "  </thead>\n",
              "  <tbody>\n",
              "    <tr>\n",
              "      <td>500</td>\n",
              "      <td>1.913600</td>\n",
              "    </tr>\n",
              "    <tr>\n",
              "      <td>1000</td>\n",
              "      <td>1.863400</td>\n",
              "    </tr>\n",
              "    <tr>\n",
              "      <td>1500</td>\n",
              "      <td>1.792000</td>\n",
              "    </tr>\n",
              "    <tr>\n",
              "      <td>2000</td>\n",
              "      <td>1.737900</td>\n",
              "    </tr>\n",
              "    <tr>\n",
              "      <td>2500</td>\n",
              "      <td>1.659600</td>\n",
              "    </tr>\n",
              "    <tr>\n",
              "      <td>3000</td>\n",
              "      <td>1.646200</td>\n",
              "    </tr>\n",
              "    <tr>\n",
              "      <td>3500</td>\n",
              "      <td>1.649300</td>\n",
              "    </tr>\n",
              "    <tr>\n",
              "      <td>4000</td>\n",
              "      <td>1.556200</td>\n",
              "    </tr>\n",
              "    <tr>\n",
              "      <td>4500</td>\n",
              "      <td>1.583800</td>\n",
              "    </tr>\n",
              "    <tr>\n",
              "      <td>5000</td>\n",
              "      <td>1.555700</td>\n",
              "    </tr>\n",
              "  </tbody>\n",
              "</table><p>"
            ],
            "text/plain": [
              "<IPython.core.display.HTML object>"
            ]
          },
          "metadata": {},
          "output_type": "display_data"
        },
        {
          "name": "stdout",
          "output_type": "stream",
          "text": [
            "Metric computation error: name 'bleu_scorer' is not defined\n",
            "Validation Loss: 1.3276\n"
          ]
        }
      ],
      "source": [
        "num_epochs = 2\n",
        "\n",
        "for epoch in range(num_epochs):\n",
        "    print(f\"\\nEpoch {epoch + 1}/{num_epochs}\")\n",
        "    trainer.train()\n",
        "    eval_results = trainer.evaluate()\n",
        "    print(f\"Validation Loss: {eval_results['eval_loss']:.4f}\")"
      ]
    },
    {
      "cell_type": "markdown",
      "metadata": {
        "id": "SItfra-6KQD_"
      },
      "source": [
        "# **Evaluation**"
      ]
    },
    {
      "cell_type": "code",
      "execution_count": null,
      "metadata": {
        "id": "72WiyrkRO63f"
      },
      "outputs": [
        {
          "name": "stderr",
          "output_type": "stream",
          "text": [
            "Some weights of T5ForSequenceClassification were not initialized from the model checkpoint at D:\\NLP_model\\my_model and are newly initialized: ['classification_head.dense.bias', 'classification_head.dense.weight', 'classification_head.out_proj.bias', 'classification_head.out_proj.weight']\n",
            "You should probably TRAIN this model on a down-stream task to be able to use it for predictions and inference.\n"
          ]
        },
        {
          "name": "stdout",
          "output_type": "stream",
          "text": [
            "\n",
            " Accuracy on 100 test samples: 0.05\n"
          ]
        }
      ],
      "source": [
        "from datasets import load_dataset\n",
        "from transformers import AutoTokenizer, AutoModelForSequenceClassification\n",
        "import torch\n",
        "import evaluate\n",
        "\n",
        "label_names = list(set(dataset[\"train\"][\"label\"]))\n",
        "label2id = {label: i for i, label in enumerate(label_names)}\n",
        "id2label = {i: label for label, i in label2id.items()}\n",
        "\n",
        "# Load tokenizer and model\n",
        "model_path = \"D:\\\\NLP_model\\\\my_model\"\n",
        "tokenizer = AutoTokenizer.from_pretrained(model_path)\n",
        "model = AutoModelForSequenceClassification.from_pretrained(model_path)\n",
        "\n",
        "# Load metric\n",
        "metric = evaluate.load(\"accuracy\")\n",
        "\n",
        "# Evaluation loop\n",
        "total_samples = 100\n",
        "predictions = []\n",
        "references = []\n",
        "\n",
        "for example in dataset[\"test\"].select(range(total_samples)):\n",
        "    text = example[\"Text\"]\n",
        "    true_label = label2id[example[\"label\"]]  # convert to integer\n",
        "    \n",
        "    inputs = tokenizer(text, return_tensors=\"pt\", truncation=True, padding=True)\n",
        "    with torch.no_grad():\n",
        "        outputs = model(**inputs)\n",
        "        pred_id = torch.argmax(outputs.logits, dim=1).item()\n",
        "    \n",
        "    predictions.append(pred_id)\n",
        "    references.append(true_label)\n",
        "\n",
        "# Compute accuracy\n",
        "results = metric.compute(predictions=predictions, references=references)\n",
        "print(f\"\\n Accuracy on {total_samples} test samples: {results['accuracy']:.2f}\")\n",
        "\n"
      ]
    },
    {
      "cell_type": "code",
      "execution_count": 42,
      "metadata": {
        "id": "q7NebkgWKXqJ"
      },
      "outputs": [
        {
          "data": {
            "image/png": "[encoded data removed]",
            "text/plain": [
              "<Figure size 640x480 with 1 Axes>"
            ]
          },
          "metadata": {},
          "output_type": "display_data"
        }
      ],
      "source": [
        "# Plot training loss\n",
        "steps, train_losses = zip(*loss_tracker.train_losses)\n",
        "plt.plot(steps, train_losses, label=\"Training Loss\")\n",
        "\n",
        "# Plot evaluation loss\n",
        "if loss_tracker.eval_losses:\n",
        "    eval_steps, eval_losses = zip(*loss_tracker.eval_losses)\n",
        "    plt.plot(eval_steps, eval_losses, label=\"Eval Loss\")\n",
        "\n",
        "plt.xlabel(\"Steps\")\n",
        "plt.ylabel(\"Loss\")\n",
        "plt.legend()\n",
        "plt.title(\"Training and Evaluation Loss Over Time\")\n",
        "plt.show()"
      ]
    },
    {
      "cell_type": "markdown",
      "metadata": {},
      "source": [
        "# **GUI**"
      ]
    },
    {
      "cell_type": "code",
      "execution_count": 2,
      "metadata": {},
      "outputs": [
        {
          "name": "stderr",
          "output_type": "stream",
          "text": [
            "Exception in Tkinter callback\n",
            "Traceback (most recent call last):\n",
            "  File \"c:\\Users\\Dell\\AppData\\Local\\Programs\\Python\\Python310\\lib\\tkinter\\__init__.py\", line 1921, in __call__\n",
            "    return self.func(*args)\n",
            "  File \"C:\\Users\\Dell\\AppData\\Local\\Temp\\ipykernel_19824\\936617715.py\", line 14, in correct_text\n",
            "    inputs = tokenizer(input_text, return_tensors=\"pt\", padding=True, truncation=True)\n",
            "NameError: name 'tokenizer' is not defined. Did you mean: 'AutoTokenizer'?\n",
            "Exception in Tkinter callback\n",
            "Traceback (most recent call last):\n",
            "  File \"c:\\Users\\Dell\\AppData\\Local\\Programs\\Python\\Python310\\lib\\tkinter\\__init__.py\", line 1921, in __call__\n",
            "    return self.func(*args)\n",
            "  File \"C:\\Users\\Dell\\AppData\\Local\\Temp\\ipykernel_19824\\936617715.py\", line 14, in correct_text\n",
            "    inputs = tokenizer(input_text, return_tensors=\"pt\", padding=True, truncation=True)\n",
            "NameError: name 'tokenizer' is not defined. Did you mean: 'AutoTokenizer'?\n"
          ]
        }
      ],
      "source": [
        "import tkinter as tk\n",
        "from tkinter import ttk\n",
        "from transformers import AutoTokenizer, AutoModelForSeq2SeqLM\n",
        "import torch\n",
        "\n",
        "\n",
        "# Function to perform correction    \n",
        "def correct_text():\n",
        "    input_text = input_box.get(\"1.0\", tk.END).strip()\n",
        "    if not input_text:\n",
        "        output_label.config(text=\"يرجى إدخال نص\")\n",
        "        return\n",
        "\n",
        "    inputs = tokenizer(input_text, return_tensors=\"pt\", padding=True, truncation=True)\n",
        "    with torch.no_grad():\n",
        "        outputs = model.generate(**inputs, max_new_tokens=128)\n",
        "    corrected = tokenizer.decode(outputs[0], skip_special_tokens=True)\n",
        "    output_label.config(text=corrected)\n",
        "\n",
        "# Create GUI window\n",
        "root = tk.Tk()\n",
        "root.title(\"مصحح اللغة العربية\")\n",
        "root.geometry(\"600x400\")\n",
        "root.configure(bg=\"#1e1e2f\")\n",
        "\n",
        "# Title\n",
        "title = tk.Label(root, text=\"تصحيح النصوص العربية\", font=(\"Segoe UI\", 20), bg=\"#1e1e2f\", fg=\"#ffffff\")\n",
        "title.pack(pady=10)\n",
        "\n",
        "# Input Text Box\n",
        "input_box = tk.Text(root, font=(\"Segoe UI\", 14), height=6, wrap=tk.WORD, bg=\"#2c2c3c\", fg=\"#ffffff\", insertbackground=\"white\", padx=10, pady=10)\n",
        "input_box.pack(padx=20, pady=10, fill=tk.BOTH)\n",
        "\n",
        "# Correct Button\n",
        "correct_button = ttk.Button(root, text=\"تصحيح\", command=correct_text)\n",
        "style = ttk.Style()\n",
        "style.theme_use(\"clam\")\n",
        "style.configure(\"TButton\", font=(\"Segoe UI\", 12), foreground=\"white\", background=\"#3a86ff\", padding=10)\n",
        "style.map(\"TButton\", background=[(\"active\", \"#265df2\")])\n",
        "correct_button.pack(pady=10)\n",
        "\n",
        "# Output Label\n",
        "output_label = tk.Label(root, text=\"\", font=(\"Segoe UI\", 14), wraplength=560, justify=\"right\", bg=\"#1e1e2f\", fg=\"#00ffb3\")\n",
        "output_label.pack(padx=20, pady=10)\n",
        "\n",
        "root.mainloop()\n"
      ]
    }
  ],
  "metadata": {
    "colab": {
      "provenance": []
    },
    "kernelspec": {
      "display_name": "Python 3",
      "name": "python3"
    },
    "language_info": {
      "codemirror_mode": {
        "name": "ipython",
        "version": 3
      },
      "file_extension": ".py",
      "mimetype": "text/x-python",
      "name": "python",
      "nbconvert_exporter": "python",
      "pygments_lexer": "ipython3",
      "version": "3.10.0"
    },
    "widgets": {
      "application/vnd.jupyter.widget-state+json": {
        "1355d49f8d9f46c491beb43e31637359": {
          "model_module": "@jupyter-widgets/base",
          "model_module_version": "1.2.0",
          "model_name": "LayoutModel",
          "state": {
            "_model_module": "@jupyter-widgets/base",
            "_model_module_version": "1.2.0",
            "_model_name": "LayoutModel",
            "_view_count": null,
            "_view_module": "@jupyter-widgets/base",
            "_view_module_version": "1.2.0",
            "_view_name": "LayoutView",
            "align_content": null,
            "align_items": null,
            "align_self": null,
            "border": null,
            "bottom": null,
            "display": null,
            "flex": null,
            "flex_flow": null,
            "grid_area": null,
            "grid_auto_columns": null,
            "grid_auto_flow": null,
            "grid_auto_rows": null,
            "grid_column": null,
            "grid_gap": null,
            "grid_row": null,
            "grid_template_areas": null,
            "grid_template_columns": null,
            "grid_template_rows": null,
            "height": null,
            "justify_content": null,
            "justify_items": null,
            "left": null,
            "margin": null,
            "max_height": null,
            "max_width": null,
            "min_height": null,
            "min_width": null,
            "object_fit": null,
            "object_position": null,
            "order": null,
            "overflow": null,
            "overflow_x": null,
            "overflow_y": null,
            "padding": null,
            "right": null,
            "top": null,
            "visibility": null,
            "width": null
          }
        },
        "1997898f228841a59baf4549cdc96fb3": {
          "model_module": "@jupyter-widgets/controls",
          "model_module_version": "1.5.0",
          "model_name": "FloatProgressModel",
          "state": {
            "_dom_classes": [],
            "_model_module": "@jupyter-widgets/controls",
            "_model_module_version": "1.5.0",
            "_model_name": "FloatProgressModel",
            "_view_count": null,
            "_view_module": "@jupyter-widgets/controls",
            "_view_module_version": "1.5.0",
            "_view_name": "ProgressView",
            "bar_style": "success",
            "description": "",
            "description_tooltip": null,
            "layout": "IPY_MODEL_eaf5a26e13a541c193bfd6da27e7aead",
            "max": 8146,
            "min": 0,
            "orientation": "horizontal",
            "style": "IPY_MODEL_907bae2936b948b79489a697ce750d8a",
            "value": 8146
          }
        },
        "1c99aa04c7a14984810b2c891a0c617f": {
          "model_module": "@jupyter-widgets/base",
          "model_module_version": "1.2.0",
          "model_name": "LayoutModel",
          "state": {
            "_model_module": "@jupyter-widgets/base",
            "_model_module_version": "1.2.0",
            "_model_name": "LayoutModel",
            "_view_count": null,
            "_view_module": "@jupyter-widgets/base",
            "_view_module_version": "1.2.0",
            "_view_name": "LayoutView",
            "align_content": null,
            "align_items": null,
            "align_self": null,
            "border": null,
            "bottom": null,
            "display": null,
            "flex": null,
            "flex_flow": null,
            "grid_area": null,
            "grid_auto_columns": null,
            "grid_auto_flow": null,
            "grid_auto_rows": null,
            "grid_column": null,
            "grid_gap": null,
            "grid_row": null,
            "grid_template_areas": null,
            "grid_template_columns": null,
            "grid_template_rows": null,
            "height": null,
            "justify_content": null,
            "justify_items": null,
            "left": null,
            "margin": null,
            "max_height": null,
            "max_width": null,
            "min_height": null,
            "min_width": null,
            "object_fit": null,
            "object_position": null,
            "order": null,
            "overflow": null,
            "overflow_x": null,
            "overflow_y": null,
            "padding": null,
            "right": null,
            "top": null,
            "visibility": null,
            "width": null
          }
        },
        "2d20bbc9f09b4b3cb0ad47cb5104dfc4": {
          "model_module": "@jupyter-widgets/controls",
          "model_module_version": "1.5.0",
          "model_name": "HTMLModel",
          "state": {
            "_dom_classes": [],
            "_model_module": "@jupyter-widgets/controls",
            "_model_module_version": "1.5.0",
            "_model_name": "HTMLModel",
            "_view_count": null,
            "_view_module": "@jupyter-widgets/controls",
            "_view_module_version": "1.5.0",
            "_view_name": "HTMLView",
            "description": "",
            "description_tooltip": null,
            "layout": "IPY_MODEL_5649a9fbe7ac439bbe391ab5cd775810",
            "placeholder": "​",
            "style": "IPY_MODEL_3d6b0fd9b44f4263adf9f661b07e71da",
            "value": "Map: 100%"
          }
        },
        "352e9547e05047279261d17aa7336d1f": {
          "model_module": "@jupyter-widgets/controls",
          "model_module_version": "1.5.0",
          "model_name": "HTMLModel",
          "state": {
            "_dom_classes": [],
            "_model_module": "@jupyter-widgets/controls",
            "_model_module_version": "1.5.0",
            "_model_name": "HTMLModel",
            "_view_count": null,
            "_view_module": "@jupyter-widgets/controls",
            "_view_module_version": "1.5.0",
            "_view_name": "HTMLView",
            "description": "",
            "description_tooltip": null,
            "layout": "IPY_MODEL_89634d6adae74804a6b05cd8b9167c56",
            "placeholder": "​",
            "style": "IPY_MODEL_7985aafbc32947ac96ec030b75783d8a",
            "value": " 3188/3188 [00:03&lt;00:00, 767.81 examples/s]"
          }
        },
        "3d6b0fd9b44f4263adf9f661b07e71da": {
          "model_module": "@jupyter-widgets/controls",
          "model_module_version": "1.5.0",
          "model_name": "DescriptionStyleModel",
          "state": {
            "_model_module": "@jupyter-widgets/controls",
            "_model_module_version": "1.5.0",
            "_model_name": "DescriptionStyleModel",
            "_view_count": null,
            "_view_module": "@jupyter-widgets/base",
            "_view_module_version": "1.2.0",
            "_view_name": "StyleView",
            "description_width": ""
          }
        },
        "46e156465f22451cbb27ef635d5ba0ca": {
          "model_module": "@jupyter-widgets/controls",
          "model_module_version": "1.5.0",
          "model_name": "DescriptionStyleModel",
          "state": {
            "_model_module": "@jupyter-widgets/controls",
            "_model_module_version": "1.5.0",
            "_model_name": "DescriptionStyleModel",
            "_view_count": null,
            "_view_module": "@jupyter-widgets/base",
            "_view_module_version": "1.2.0",
            "_view_name": "StyleView",
            "description_width": ""
          }
        },
        "504843d9ff1548498535d433bd305150": {
          "model_module": "@jupyter-widgets/base",
          "model_module_version": "1.2.0",
          "model_name": "LayoutModel",
          "state": {
            "_model_module": "@jupyter-widgets/base",
            "_model_module_version": "1.2.0",
            "_model_name": "LayoutModel",
            "_view_count": null,
            "_view_module": "@jupyter-widgets/base",
            "_view_module_version": "1.2.0",
            "_view_name": "LayoutView",
            "align_content": null,
            "align_items": null,
            "align_self": null,
            "border": null,
            "bottom": null,
            "display": null,
            "flex": null,
            "flex_flow": null,
            "grid_area": null,
            "grid_auto_columns": null,
            "grid_auto_flow": null,
            "grid_auto_rows": null,
            "grid_column": null,
            "grid_gap": null,
            "grid_row": null,
            "grid_template_areas": null,
            "grid_template_columns": null,
            "grid_template_rows": null,
            "height": null,
            "justify_content": null,
            "justify_items": null,
            "left": null,
            "margin": null,
            "max_height": null,
            "max_width": null,
            "min_height": null,
            "min_width": null,
            "object_fit": null,
            "object_position": null,
            "order": null,
            "overflow": null,
            "overflow_x": null,
            "overflow_y": null,
            "padding": null,
            "right": null,
            "top": null,
            "visibility": null,
            "width": null
          }
        },
        "5649a9fbe7ac439bbe391ab5cd775810": {
          "model_module": "@jupyter-widgets/base",
          "model_module_version": "1.2.0",
          "model_name": "LayoutModel",
          "state": {
            "_model_module": "@jupyter-widgets/base",
            "_model_module_version": "1.2.0",
            "_model_name": "LayoutModel",
            "_view_count": null,
            "_view_module": "@jupyter-widgets/base",
            "_view_module_version": "1.2.0",
            "_view_name": "LayoutView",
            "align_content": null,
            "align_items": null,
            "align_self": null,
            "border": null,
            "bottom": null,
            "display": null,
            "flex": null,
            "flex_flow": null,
            "grid_area": null,
            "grid_auto_columns": null,
            "grid_auto_flow": null,
            "grid_auto_rows": null,
            "grid_column": null,
            "grid_gap": null,
            "grid_row": null,
            "grid_template_areas": null,
            "grid_template_columns": null,
            "grid_template_rows": null,
            "height": null,
            "justify_content": null,
            "justify_items": null,
            "left": null,
            "margin": null,
            "max_height": null,
            "max_width": null,
            "min_height": null,
            "min_width": null,
            "object_fit": null,
            "object_position": null,
            "order": null,
            "overflow": null,
            "overflow_x": null,
            "overflow_y": null,
            "padding": null,
            "right": null,
            "top": null,
            "visibility": null,
            "width": null
          }
        },
        "6108fca9bf1c43ad9e79da8c11bffae3": {
          "model_module": "@jupyter-widgets/controls",
          "model_module_version": "1.5.0",
          "model_name": "ProgressStyleModel",
          "state": {
            "_model_module": "@jupyter-widgets/controls",
            "_model_module_version": "1.5.0",
            "_model_name": "ProgressStyleModel",
            "_view_count": null,
            "_view_module": "@jupyter-widgets/base",
            "_view_module_version": "1.2.0",
            "_view_name": "StyleView",
            "bar_color": null,
            "description_width": ""
          }
        },
        "6795db3fbad94f5ea2d7698172060ec0": {
          "model_module": "@jupyter-widgets/controls",
          "model_module_version": "1.5.0",
          "model_name": "HBoxModel",
          "state": {
            "_dom_classes": [],
            "_model_module": "@jupyter-widgets/controls",
            "_model_module_version": "1.5.0",
            "_model_name": "HBoxModel",
            "_view_count": null,
            "_view_module": "@jupyter-widgets/controls",
            "_view_module_version": "1.5.0",
            "_view_name": "HBoxView",
            "box_style": "",
            "children": [
              "IPY_MODEL_b3580293a0084b5991e324179333d7b8",
              "IPY_MODEL_c739234d0eb74d9a985bd0b108befa6a",
              "IPY_MODEL_352e9547e05047279261d17aa7336d1f"
            ],
            "layout": "IPY_MODEL_b3ca1a1f4c9c4da7a2a6e3edcbb0c204"
          }
        },
        "68301e31ac6f4aa4adb607dc11e2d902": {
          "model_module": "@jupyter-widgets/base",
          "model_module_version": "1.2.0",
          "model_name": "LayoutModel",
          "state": {
            "_model_module": "@jupyter-widgets/base",
            "_model_module_version": "1.2.0",
            "_model_name": "LayoutModel",
            "_view_count": null,
            "_view_module": "@jupyter-widgets/base",
            "_view_module_version": "1.2.0",
            "_view_name": "LayoutView",
            "align_content": null,
            "align_items": null,
            "align_self": null,
            "border": null,
            "bottom": null,
            "display": null,
            "flex": null,
            "flex_flow": null,
            "grid_area": null,
            "grid_auto_columns": null,
            "grid_auto_flow": null,
            "grid_auto_rows": null,
            "grid_column": null,
            "grid_gap": null,
            "grid_row": null,
            "grid_template_areas": null,
            "grid_template_columns": null,
            "grid_template_rows": null,
            "height": null,
            "justify_content": null,
            "justify_items": null,
            "left": null,
            "margin": null,
            "max_height": null,
            "max_width": null,
            "min_height": null,
            "min_width": null,
            "object_fit": null,
            "object_position": null,
            "order": null,
            "overflow": null,
            "overflow_x": null,
            "overflow_y": null,
            "padding": null,
            "right": null,
            "top": null,
            "visibility": null,
            "width": null
          }
        },
        "712182db19544d6eb7d72aaae15dd221": {
          "model_module": "@jupyter-widgets/controls",
          "model_module_version": "1.5.0",
          "model_name": "FloatProgressModel",
          "state": {
            "_dom_classes": [],
            "_model_module": "@jupyter-widgets/controls",
            "_model_module_version": "1.5.0",
            "_model_name": "FloatProgressModel",
            "_view_count": null,
            "_view_module": "@jupyter-widgets/controls",
            "_view_module_version": "1.5.0",
            "_view_name": "ProgressView",
            "bar_style": "success",
            "description": "",
            "description_tooltip": null,
            "layout": "IPY_MODEL_a62a0c902d0348c2b223d573fb006096",
            "max": 28684,
            "min": 0,
            "orientation": "horizontal",
            "style": "IPY_MODEL_b71b31354aaf4cdc987cd549b570a151",
            "value": 28684
          }
        },
        "735c181f98944a4bb505530d6969d290": {
          "model_module": "@jupyter-widgets/controls",
          "model_module_version": "1.5.0",
          "model_name": "HTMLModel",
          "state": {
            "_dom_classes": [],
            "_model_module": "@jupyter-widgets/controls",
            "_model_module_version": "1.5.0",
            "_model_name": "HTMLModel",
            "_view_count": null,
            "_view_module": "@jupyter-widgets/controls",
            "_view_module_version": "1.5.0",
            "_view_name": "HTMLView",
            "description": "",
            "description_tooltip": null,
            "layout": "IPY_MODEL_68301e31ac6f4aa4adb607dc11e2d902",
            "placeholder": "​",
            "style": "IPY_MODEL_be6f8f2ec61348ff9e7c451e06b3bc4b",
            "value": "Downloading builder script: 100%"
          }
        },
        "7985aafbc32947ac96ec030b75783d8a": {
          "model_module": "@jupyter-widgets/controls",
          "model_module_version": "1.5.0",
          "model_name": "DescriptionStyleModel",
          "state": {
            "_model_module": "@jupyter-widgets/controls",
            "_model_module_version": "1.5.0",
            "_model_name": "DescriptionStyleModel",
            "_view_count": null,
            "_view_module": "@jupyter-widgets/base",
            "_view_module_version": "1.2.0",
            "_view_name": "StyleView",
            "description_width": ""
          }
        },
        "7af27f6b4b494baba8ff3b99ae924706": {
          "model_module": "@jupyter-widgets/controls",
          "model_module_version": "1.5.0",
          "model_name": "HTMLModel",
          "state": {
            "_dom_classes": [],
            "_model_module": "@jupyter-widgets/controls",
            "_model_module_version": "1.5.0",
            "_model_name": "HTMLModel",
            "_view_count": null,
            "_view_module": "@jupyter-widgets/controls",
            "_view_module_version": "1.5.0",
            "_view_name": "HTMLView",
            "description": "",
            "description_tooltip": null,
            "layout": "IPY_MODEL_1355d49f8d9f46c491beb43e31637359",
            "placeholder": "​",
            "style": "IPY_MODEL_46e156465f22451cbb27ef635d5ba0ca",
            "value": " 28684/28684 [00:30&lt;00:00, 1183.07 examples/s]"
          }
        },
        "89634d6adae74804a6b05cd8b9167c56": {
          "model_module": "@jupyter-widgets/base",
          "model_module_version": "1.2.0",
          "model_name": "LayoutModel",
          "state": {
            "_model_module": "@jupyter-widgets/base",
            "_model_module_version": "1.2.0",
            "_model_name": "LayoutModel",
            "_view_count": null,
            "_view_module": "@jupyter-widgets/base",
            "_view_module_version": "1.2.0",
            "_view_name": "LayoutView",
            "align_content": null,
            "align_items": null,
            "align_self": null,
            "border": null,
            "bottom": null,
            "display": null,
            "flex": null,
            "flex_flow": null,
            "grid_area": null,
            "grid_auto_columns": null,
            "grid_auto_flow": null,
            "grid_auto_rows": null,
            "grid_column": null,
            "grid_gap": null,
            "grid_row": null,
            "grid_template_areas": null,
            "grid_template_columns": null,
            "grid_template_rows": null,
            "height": null,
            "justify_content": null,
            "justify_items": null,
            "left": null,
            "margin": null,
            "max_height": null,
            "max_width": null,
            "min_height": null,
            "min_width": null,
            "object_fit": null,
            "object_position": null,
            "order": null,
            "overflow": null,
            "overflow_x": null,
            "overflow_y": null,
            "padding": null,
            "right": null,
            "top": null,
            "visibility": null,
            "width": null
          }
        },
        "907bae2936b948b79489a697ce750d8a": {
          "model_module": "@jupyter-widgets/controls",
          "model_module_version": "1.5.0",
          "model_name": "ProgressStyleModel",
          "state": {
            "_model_module": "@jupyter-widgets/controls",
            "_model_module_version": "1.5.0",
            "_model_name": "ProgressStyleModel",
            "_view_count": null,
            "_view_module": "@jupyter-widgets/base",
            "_view_module_version": "1.2.0",
            "_view_name": "StyleView",
            "bar_color": null,
            "description_width": ""
          }
        },
        "958f91e080ec4166814693bba30f6b1a": {
          "model_module": "@jupyter-widgets/base",
          "model_module_version": "1.2.0",
          "model_name": "LayoutModel",
          "state": {
            "_model_module": "@jupyter-widgets/base",
            "_model_module_version": "1.2.0",
            "_model_name": "LayoutModel",
            "_view_count": null,
            "_view_module": "@jupyter-widgets/base",
            "_view_module_version": "1.2.0",
            "_view_name": "LayoutView",
            "align_content": null,
            "align_items": null,
            "align_self": null,
            "border": null,
            "bottom": null,
            "display": null,
            "flex": null,
            "flex_flow": null,
            "grid_area": null,
            "grid_auto_columns": null,
            "grid_auto_flow": null,
            "grid_auto_rows": null,
            "grid_column": null,
            "grid_gap": null,
            "grid_row": null,
            "grid_template_areas": null,
            "grid_template_columns": null,
            "grid_template_rows": null,
            "height": null,
            "justify_content": null,
            "justify_items": null,
            "left": null,
            "margin": null,
            "max_height": null,
            "max_width": null,
            "min_height": null,
            "min_width": null,
            "object_fit": null,
            "object_position": null,
            "order": null,
            "overflow": null,
            "overflow_x": null,
            "overflow_y": null,
            "padding": null,
            "right": null,
            "top": null,
            "visibility": null,
            "width": null
          }
        },
        "9c127327f6e74556a45025e39da39623": {
          "model_module": "@jupyter-widgets/base",
          "model_module_version": "1.2.0",
          "model_name": "LayoutModel",
          "state": {
            "_model_module": "@jupyter-widgets/base",
            "_model_module_version": "1.2.0",
            "_model_name": "LayoutModel",
            "_view_count": null,
            "_view_module": "@jupyter-widgets/base",
            "_view_module_version": "1.2.0",
            "_view_name": "LayoutView",
            "align_content": null,
            "align_items": null,
            "align_self": null,
            "border": null,
            "bottom": null,
            "display": null,
            "flex": null,
            "flex_flow": null,
            "grid_area": null,
            "grid_auto_columns": null,
            "grid_auto_flow": null,
            "grid_auto_rows": null,
            "grid_column": null,
            "grid_gap": null,
            "grid_row": null,
            "grid_template_areas": null,
            "grid_template_columns": null,
            "grid_template_rows": null,
            "height": null,
            "justify_content": null,
            "justify_items": null,
            "left": null,
            "margin": null,
            "max_height": null,
            "max_width": null,
            "min_height": null,
            "min_width": null,
            "object_fit": null,
            "object_position": null,
            "order": null,
            "overflow": null,
            "overflow_x": null,
            "overflow_y": null,
            "padding": null,
            "right": null,
            "top": null,
            "visibility": null,
            "width": null
          }
        },
        "9efc74ebda204786a9ea35d2b71feada": {
          "model_module": "@jupyter-widgets/controls",
          "model_module_version": "1.5.0",
          "model_name": "DescriptionStyleModel",
          "state": {
            "_model_module": "@jupyter-widgets/controls",
            "_model_module_version": "1.5.0",
            "_model_name": "DescriptionStyleModel",
            "_view_count": null,
            "_view_module": "@jupyter-widgets/base",
            "_view_module_version": "1.2.0",
            "_view_name": "StyleView",
            "description_width": ""
          }
        },
        "a257f7ed94054659ae4bb4515adf197b": {
          "model_module": "@jupyter-widgets/controls",
          "model_module_version": "1.5.0",
          "model_name": "DescriptionStyleModel",
          "state": {
            "_model_module": "@jupyter-widgets/controls",
            "_model_module_version": "1.5.0",
            "_model_name": "DescriptionStyleModel",
            "_view_count": null,
            "_view_module": "@jupyter-widgets/base",
            "_view_module_version": "1.2.0",
            "_view_name": "StyleView",
            "description_width": ""
          }
        },
        "a62a0c902d0348c2b223d573fb006096": {
          "model_module": "@jupyter-widgets/base",
          "model_module_version": "1.2.0",
          "model_name": "LayoutModel",
          "state": {
            "_model_module": "@jupyter-widgets/base",
            "_model_module_version": "1.2.0",
            "_model_name": "LayoutModel",
            "_view_count": null,
            "_view_module": "@jupyter-widgets/base",
            "_view_module_version": "1.2.0",
            "_view_name": "LayoutView",
            "align_content": null,
            "align_items": null,
            "align_self": null,
            "border": null,
            "bottom": null,
            "display": null,
            "flex": null,
            "flex_flow": null,
            "grid_area": null,
            "grid_auto_columns": null,
            "grid_auto_flow": null,
            "grid_auto_rows": null,
            "grid_column": null,
            "grid_gap": null,
            "grid_row": null,
            "grid_template_areas": null,
            "grid_template_columns": null,
            "grid_template_rows": null,
            "height": null,
            "justify_content": null,
            "justify_items": null,
            "left": null,
            "margin": null,
            "max_height": null,
            "max_width": null,
            "min_height": null,
            "min_width": null,
            "object_fit": null,
            "object_position": null,
            "order": null,
            "overflow": null,
            "overflow_x": null,
            "overflow_y": null,
            "padding": null,
            "right": null,
            "top": null,
            "visibility": null,
            "width": null
          }
        },
        "aba7f7d0021d40229abeb447cf8d5ff1": {
          "model_module": "@jupyter-widgets/controls",
          "model_module_version": "1.5.0",
          "model_name": "HBoxModel",
          "state": {
            "_dom_classes": [],
            "_model_module": "@jupyter-widgets/controls",
            "_model_module_version": "1.5.0",
            "_model_name": "HBoxModel",
            "_view_count": null,
            "_view_module": "@jupyter-widgets/controls",
            "_view_module_version": "1.5.0",
            "_view_name": "HBoxView",
            "box_style": "",
            "children": [
              "IPY_MODEL_735c181f98944a4bb505530d6969d290",
              "IPY_MODEL_1997898f228841a59baf4549cdc96fb3",
              "IPY_MODEL_e98a2b1e6c134497b4df6c3e8518bc83"
            ],
            "layout": "IPY_MODEL_504843d9ff1548498535d433bd305150"
          }
        },
        "b3580293a0084b5991e324179333d7b8": {
          "model_module": "@jupyter-widgets/controls",
          "model_module_version": "1.5.0",
          "model_name": "HTMLModel",
          "state": {
            "_dom_classes": [],
            "_model_module": "@jupyter-widgets/controls",
            "_model_module_version": "1.5.0",
            "_model_name": "HTMLModel",
            "_view_count": null,
            "_view_module": "@jupyter-widgets/controls",
            "_view_module_version": "1.5.0",
            "_view_name": "HTMLView",
            "description": "",
            "description_tooltip": null,
            "layout": "IPY_MODEL_dcfd7806910e4750a269fd294e7caf75",
            "placeholder": "​",
            "style": "IPY_MODEL_9efc74ebda204786a9ea35d2b71feada",
            "value": "Map: 100%"
          }
        },
        "b3ca1a1f4c9c4da7a2a6e3edcbb0c204": {
          "model_module": "@jupyter-widgets/base",
          "model_module_version": "1.2.0",
          "model_name": "LayoutModel",
          "state": {
            "_model_module": "@jupyter-widgets/base",
            "_model_module_version": "1.2.0",
            "_model_name": "LayoutModel",
            "_view_count": null,
            "_view_module": "@jupyter-widgets/base",
            "_view_module_version": "1.2.0",
            "_view_name": "LayoutView",
            "align_content": null,
            "align_items": null,
            "align_self": null,
            "border": null,
            "bottom": null,
            "display": null,
            "flex": null,
            "flex_flow": null,
            "grid_area": null,
            "grid_auto_columns": null,
            "grid_auto_flow": null,
            "grid_auto_rows": null,
            "grid_column": null,
            "grid_gap": null,
            "grid_row": null,
            "grid_template_areas": null,
            "grid_template_columns": null,
            "grid_template_rows": null,
            "height": null,
            "justify_content": null,
            "justify_items": null,
            "left": null,
            "margin": null,
            "max_height": null,
            "max_width": null,
            "min_height": null,
            "min_width": null,
            "object_fit": null,
            "object_position": null,
            "order": null,
            "overflow": null,
            "overflow_x": null,
            "overflow_y": null,
            "padding": null,
            "right": null,
            "top": null,
            "visibility": null,
            "width": null
          }
        },
        "b71b31354aaf4cdc987cd549b570a151": {
          "model_module": "@jupyter-widgets/controls",
          "model_module_version": "1.5.0",
          "model_name": "ProgressStyleModel",
          "state": {
            "_model_module": "@jupyter-widgets/controls",
            "_model_module_version": "1.5.0",
            "_model_name": "ProgressStyleModel",
            "_view_count": null,
            "_view_module": "@jupyter-widgets/base",
            "_view_module_version": "1.2.0",
            "_view_name": "StyleView",
            "bar_color": null,
            "description_width": ""
          }
        },
        "bda24dee76124fccbfcb7d9a266233bb": {
          "model_module": "@jupyter-widgets/controls",
          "model_module_version": "1.5.0",
          "model_name": "HBoxModel",
          "state": {
            "_dom_classes": [],
            "_model_module": "@jupyter-widgets/controls",
            "_model_module_version": "1.5.0",
            "_model_name": "HBoxModel",
            "_view_count": null,
            "_view_module": "@jupyter-widgets/controls",
            "_view_module_version": "1.5.0",
            "_view_name": "HBoxView",
            "box_style": "",
            "children": [
              "IPY_MODEL_2d20bbc9f09b4b3cb0ad47cb5104dfc4",
              "IPY_MODEL_712182db19544d6eb7d72aaae15dd221",
              "IPY_MODEL_7af27f6b4b494baba8ff3b99ae924706"
            ],
            "layout": "IPY_MODEL_9c127327f6e74556a45025e39da39623"
          }
        },
        "be6f8f2ec61348ff9e7c451e06b3bc4b": {
          "model_module": "@jupyter-widgets/controls",
          "model_module_version": "1.5.0",
          "model_name": "DescriptionStyleModel",
          "state": {
            "_model_module": "@jupyter-widgets/controls",
            "_model_module_version": "1.5.0",
            "_model_name": "DescriptionStyleModel",
            "_view_count": null,
            "_view_module": "@jupyter-widgets/base",
            "_view_module_version": "1.2.0",
            "_view_name": "StyleView",
            "description_width": ""
          }
        },
        "c739234d0eb74d9a985bd0b108befa6a": {
          "model_module": "@jupyter-widgets/controls",
          "model_module_version": "1.5.0",
          "model_name": "FloatProgressModel",
          "state": {
            "_dom_classes": [],
            "_model_module": "@jupyter-widgets/controls",
            "_model_module_version": "1.5.0",
            "_model_name": "FloatProgressModel",
            "_view_count": null,
            "_view_module": "@jupyter-widgets/controls",
            "_view_module_version": "1.5.0",
            "_view_name": "ProgressView",
            "bar_style": "success",
            "description": "",
            "description_tooltip": null,
            "layout": "IPY_MODEL_958f91e080ec4166814693bba30f6b1a",
            "max": 3188,
            "min": 0,
            "orientation": "horizontal",
            "style": "IPY_MODEL_6108fca9bf1c43ad9e79da8c11bffae3",
            "value": 3188
          }
        },
        "dcfd7806910e4750a269fd294e7caf75": {
          "model_module": "@jupyter-widgets/base",
          "model_module_version": "1.2.0",
          "model_name": "LayoutModel",
          "state": {
            "_model_module": "@jupyter-widgets/base",
            "_model_module_version": "1.2.0",
            "_model_name": "LayoutModel",
            "_view_count": null,
            "_view_module": "@jupyter-widgets/base",
            "_view_module_version": "1.2.0",
            "_view_name": "LayoutView",
            "align_content": null,
            "align_items": null,
            "align_self": null,
            "border": null,
            "bottom": null,
            "display": null,
            "flex": null,
            "flex_flow": null,
            "grid_area": null,
            "grid_auto_columns": null,
            "grid_auto_flow": null,
            "grid_auto_rows": null,
            "grid_column": null,
            "grid_gap": null,
            "grid_row": null,
            "grid_template_areas": null,
            "grid_template_columns": null,
            "grid_template_rows": null,
            "height": null,
            "justify_content": null,
            "justify_items": null,
            "left": null,
            "margin": null,
            "max_height": null,
            "max_width": null,
            "min_height": null,
            "min_width": null,
            "object_fit": null,
            "object_position": null,
            "order": null,
            "overflow": null,
            "overflow_x": null,
            "overflow_y": null,
            "padding": null,
            "right": null,
            "top": null,
            "visibility": null,
            "width": null
          }
        },
        "e98a2b1e6c134497b4df6c3e8518bc83": {
          "model_module": "@jupyter-widgets/controls",
          "model_module_version": "1.5.0",
          "model_name": "HTMLModel",
          "state": {
            "_dom_classes": [],
            "_model_module": "@jupyter-widgets/controls",
            "_model_module_version": "1.5.0",
            "_model_name": "HTMLModel",
            "_view_count": null,
            "_view_module": "@jupyter-widgets/controls",
            "_view_module_version": "1.5.0",
            "_view_name": "HTMLView",
            "description": "",
            "description_tooltip": null,
            "layout": "IPY_MODEL_1c99aa04c7a14984810b2c891a0c617f",
            "placeholder": "​",
            "style": "IPY_MODEL_a257f7ed94054659ae4bb4515adf197b",
            "value": " 8.15k/8.15k [00:00&lt;00:00, 612kB/s]"
          }
        },
        "eaf5a26e13a541c193bfd6da27e7aead": {
          "model_module": "@jupyter-widgets/base",
          "model_module_version": "1.2.0",
          "model_name": "LayoutModel",
          "state": {
            "_model_module": "@jupyter-widgets/base",
            "_model_module_version": "1.2.0",
            "_model_name": "LayoutModel",
            "_view_count": null,
            "_view_module": "@jupyter-widgets/base",
            "_view_module_version": "1.2.0",
            "_view_name": "LayoutView",
            "align_content": null,
            "align_items": null,
            "align_self": null,
            "border": null,
            "bottom": null,
            "display": null,
            "flex": null,
            "flex_flow": null,
            "grid_area": null,
            "grid_auto_columns": null,
            "grid_auto_flow": null,
            "grid_auto_rows": null,
            "grid_column": null,
            "grid_gap": null,
            "grid_row": null,
            "grid_template_areas": null,
            "grid_template_columns": null,
            "grid_template_rows": null,
            "height": null,
            "justify_content": null,
            "justify_items": null,
            "left": null,
            "margin": null,
            "max_height": null,
            "max_width": null,
            "min_height": null,
            "min_width": null,
            "object_fit": null,
            "object_position": null,
            "order": null,
            "overflow": null,
            "overflow_x": null,
            "overflow_y": null,
            "padding": null,
            "right": null,
            "top": null,
            "visibility": null,
            "width": null
          }
        }
      }
    }
  },
  "nbformat": 4,
  "nbformat_minor": 0
}
